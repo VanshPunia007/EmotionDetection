{
 "cells": [
  {
   "cell_type": "code",
   "execution_count": 1,
   "id": "99f5a874",
   "metadata": {},
   "outputs": [],
   "source": [
    "import os\n",
    "import numpy as np\n",
    "import cv2\n",
    "import random\n",
    "from sklearn.model_selection import train_test_split\n",
    "import matplotlib.pyplot as plt\n",
    "import seaborn as sns\n",
    "from sklearn.metrics import confusion_matrix \n",
    "from tensorflow.keras.preprocessing.image import ImageDataGenerator\n",
    "from tensorflow.keras.preprocessing import image\n",
    "from tensorflow.keras.optimizers import RMSprop\n",
    "import tensorflow as tf\n",
    "from tensorflow.keras import layers, models\n",
    "from tensorflow.keras.models import Sequential\n",
    "from tensorflow.keras.layers import Conv2D, MaxPooling2D, Dense, Flatten"
   ]
  },
  {
   "cell_type": "code",
   "execution_count": 2,
   "id": "48d5b848",
   "metadata": {},
   "outputs": [],
   "source": [
    "import os\n",
    "import shutil\n",
    "\n",
    "# Define the base directory containing the folders 0 to 18\n",
    "base_dir = r\"D:\\Data Science\\Machine Learning\\CNN\\emotion detection\"\n",
    "\n",
    "# Define the emotion categories\n",
    "emotions = [\"anger\", \"disgusted\", \"fearful\", \"happy\", \"neutral\", \"sad\", \"surprised\"]\n"
   ]
  },
  {
   "cell_type": "code",
   "execution_count": 3,
   "id": "275b7329",
   "metadata": {},
   "outputs": [
    {
     "data": {
      "text/plain": [
       "<matplotlib.image.AxesImage at 0x1a96a967b90>"
      ]
     },
     "execution_count": 3,
     "metadata": {},
     "output_type": "execute_result"
    },
    {
     "data": {
      "image/png": "[encoded data removed]",
      "text/plain": [
       "<Figure size 640x480 with 1 Axes>"
      ]
     },
     "metadata": {},
     "output_type": "display_data"
    }
   ],
   "source": [
    "img = image.load_img(\"train/happy/im1.png\")\n",
    "plt.imshow(img)"
   ]
  },
  {
   "cell_type": "code",
   "execution_count": 4,
   "id": "8ad8231f",
   "metadata": {},
   "outputs": [
    {
     "data": {
      "text/plain": [
       "array([[[ 85,  85,  85],\n",
       "        [ 84,  84,  84],\n",
       "        [ 90,  90,  90],\n",
       "        ...,\n",
       "        [ 40,  40,  40],\n",
       "        [ 46,  46,  46],\n",
       "        [ 63,  63,  63]],\n",
       "\n",
       "       [[ 78,  78,  78],\n",
       "        [ 76,  76,  76],\n",
       "        [101, 101, 101],\n",
       "        ...,\n",
       "        [ 36,  36,  36],\n",
       "        [ 44,  44,  44],\n",
       "        [ 52,  52,  52]],\n",
       "\n",
       "       [[ 76,  76,  76],\n",
       "        [ 96,  96,  96],\n",
       "        [115, 115, 115],\n",
       "        ...,\n",
       "        [ 34,  34,  34],\n",
       "        [ 42,  42,  42],\n",
       "        [ 43,  43,  43]],\n",
       "\n",
       "       ...,\n",
       "\n",
       "       [[102, 102, 102],\n",
       "        [100, 100, 100],\n",
       "        [ 97,  97,  97],\n",
       "        ...,\n",
       "        [ 65,  65,  65],\n",
       "        [ 76,  76,  76],\n",
       "        [ 62,  62,  62]],\n",
       "\n",
       "       [[107, 107, 107],\n",
       "        [101, 101, 101],\n",
       "        [ 96,  96,  96],\n",
       "        ...,\n",
       "        [ 57,  57,  57],\n",
       "        [ 79,  79,  79],\n",
       "        [ 70,  70,  70]],\n",
       "\n",
       "       [[106, 106, 106],\n",
       "        [103, 103, 103],\n",
       "        [ 94,  94,  94],\n",
       "        ...,\n",
       "        [ 58,  58,  58],\n",
       "        [ 73,  73,  73],\n",
       "        [ 84,  84,  84]]], dtype=uint8)"
      ]
     },
     "execution_count": 4,
     "metadata": {},
     "output_type": "execute_result"
    }
   ],
   "source": [
    "cv2.imread(\"train/happy/im1.png\")"
   ]
  },
  {
   "cell_type": "code",
   "execution_count": 5,
   "id": "c7f0774c",
   "metadata": {},
   "outputs": [
    {
     "data": {
      "text/plain": [
       "(48, 48, 3)"
      ]
     },
     "execution_count": 5,
     "metadata": {},
     "output_type": "execute_result"
    }
   ],
   "source": [
    "cv2.imread(\"train/happy/im1.png\").shape"
   ]
  },
  {
   "cell_type": "code",
   "execution_count": 6,
   "id": "a6e13aef",
   "metadata": {},
   "outputs": [],
   "source": [
    "train = ImageDataGenerator(rescale = 1/255)\n",
    "test = ImageDataGenerator(rescale = 1/255)"
   ]
  },
  {
   "cell_type": "code",
   "execution_count": 7,
   "id": "b3b03727",
   "metadata": {},
   "outputs": [
    {
     "name": "stdout",
     "output_type": "stream",
     "text": [
      "Found 28709 images belonging to 7 classes.\n",
      "Found 7178 images belonging to 7 classes.\n"
     ]
    }
   ],
   "source": [
    "train_dataset = train.flow_from_directory(\"train/\",\n",
    "                                         target_size = (48, 48),\n",
    "                                         batch_size = 64,\n",
    "                                         class_mode = \"categorical\")\n",
    "test_dataset = train.flow_from_directory(\"test/\",\n",
    "                                         target_size = (48, 48),\n",
    "                                         batch_size = 64,\n",
    "                                         class_mode = \"categorical\")"
   ]
  },
  {
   "cell_type": "code",
   "execution_count": 8,
   "id": "4163cb42",
   "metadata": {},
   "outputs": [
    {
     "data": {
      "text/plain": [
       "array([0, 0, 0, ..., 6, 6, 6])"
      ]
     },
     "execution_count": 8,
     "metadata": {},
     "output_type": "execute_result"
    }
   ],
   "source": [
    "train_dataset.classes"
   ]
  },
  {
   "cell_type": "code",
   "execution_count": 9,
   "id": "b49d8d54",
   "metadata": {},
   "outputs": [
    {
     "data": {
      "text/plain": [
       "{'angry': 0,\n",
       " 'disgusted': 1,\n",
       " 'fearful': 2,\n",
       " 'happy': 3,\n",
       " 'neutral': 4,\n",
       " 'sad': 5,\n",
       " 'surprised': 6}"
      ]
     },
     "execution_count": 9,
     "metadata": {},
     "output_type": "execute_result"
    }
   ],
   "source": [
    "train_dataset.class_indices"
   ]
  },
  {
   "cell_type": "code",
   "execution_count": 38,
   "id": "46d4b0ab",
   "metadata": {},
   "outputs": [],
   "source": [
    "model = Sequential([\n",
    "    Conv2D(64, (3,3), activation=\"relu\", input_shape=(48, 48, 3)),\n",
    "    MaxPooling2D(2,2),\n",
    "    \n",
    "    Conv2D(128, (3,3), activation=\"relu\"),\n",
    "    MaxPooling2D(2,2),\n",
    "\n",
    "    Conv2D(256, (3,3), activation=\"relu\"),  # Increase the number of filters\n",
    "    MaxPooling2D(2,2),\n",
    "\n",
    "    Flatten(),\n",
    "    Dense(512, activation=\"relu\"),\n",
    "    Dense(7, activation=\"softmax\")\n",
    "])\n"
   ]
  },
  {
   "cell_type": "code",
   "execution_count": 42,
   "id": "2f01a550",
   "metadata": {},
   "outputs": [],
   "source": [
    "model.compile(loss=\"categorical_crossentropy\", optimizer=RMSprop(learning_rate=0.001), metrics=['accuracy'])"
   ]
  },
  {
   "cell_type": "code",
   "execution_count": 40,
   "id": "2de4f54c",
   "metadata": {},
   "outputs": [
    {
     "name": "stdout",
     "output_type": "stream",
     "text": [
      "Epoch 1/10\n",
      "\u001b[1m449/449\u001b[0m \u001b[32m━━━━━━━━━━━━━━━━━━━━\u001b[0m\u001b[37m\u001b[0m \u001b[1m474s\u001b[0m 1s/step - accuracy: 0.2797 - loss: 1.7542 - val_accuracy: 0.4597 - val_loss: 1.4206\n",
      "Epoch 2/10\n",
      "\u001b[1m449/449\u001b[0m \u001b[32m━━━━━━━━━━━━━━━━━━━━\u001b[0m\u001b[37m\u001b[0m \u001b[1m282s\u001b[0m 627ms/step - accuracy: 0.4795 - loss: 1.3665 - val_accuracy: 0.5223 - val_loss: 1.2429\n",
      "Epoch 3/10\n",
      "\u001b[1m449/449\u001b[0m \u001b[32m━━━━━━━━━━━━━━━━━━━━\u001b[0m\u001b[37m\u001b[0m \u001b[1m201s\u001b[0m 440ms/step - accuracy: 0.5515 - loss: 1.1857 - val_accuracy: 0.5248 - val_loss: 1.2500\n",
      "Epoch 4/10\n",
      "\u001b[1m449/449\u001b[0m \u001b[32m━━━━━━━━━━━━━━━━━━━━\u001b[0m\u001b[37m\u001b[0m \u001b[1m226s\u001b[0m 498ms/step - accuracy: 0.6139 - loss: 1.0277 - val_accuracy: 0.5599 - val_loss: 1.1673\n",
      "Epoch 5/10\n",
      "\u001b[1m449/449\u001b[0m \u001b[32m━━━━━━━━━━━━━━━━━━━━\u001b[0m\u001b[37m\u001b[0m \u001b[1m313s\u001b[0m 697ms/step - accuracy: 0.6728 - loss: 0.8849 - val_accuracy: 0.5713 - val_loss: 1.1530\n",
      "Epoch 6/10\n",
      "\u001b[1m449/449\u001b[0m \u001b[32m━━━━━━━━━━━━━━━━━━━━\u001b[0m\u001b[37m\u001b[0m \u001b[1m335s\u001b[0m 727ms/step - accuracy: 0.7355 - loss: 0.7229 - val_accuracy: 0.5919 - val_loss: 1.2231\n",
      "Epoch 7/10\n",
      "\u001b[1m449/449\u001b[0m \u001b[32m━━━━━━━━━━━━━━━━━━━━\u001b[0m\u001b[37m\u001b[0m \u001b[1m293s\u001b[0m 653ms/step - accuracy: 0.8079 - loss: 0.5362 - val_accuracy: 0.5883 - val_loss: 1.3719\n",
      "Epoch 8/10\n",
      "\u001b[1m449/449\u001b[0m \u001b[32m━━━━━━━━━━━━━━━━━━━━\u001b[0m\u001b[37m\u001b[0m \u001b[1m213s\u001b[0m 468ms/step - accuracy: 0.8643 - loss: 0.3840 - val_accuracy: 0.5846 - val_loss: 1.5286\n",
      "Epoch 9/10\n",
      "\u001b[1m449/449\u001b[0m \u001b[32m━━━━━━━━━━━━━━━━━━━━\u001b[0m\u001b[37m\u001b[0m \u001b[1m224s\u001b[0m 499ms/step - accuracy: 0.9118 - loss: 0.2557 - val_accuracy: 0.5837 - val_loss: 1.8811\n",
      "Epoch 10/10\n",
      "\u001b[1m449/449\u001b[0m \u001b[32m━━━━━━━━━━━━━━━━━━━━\u001b[0m\u001b[37m\u001b[0m \u001b[1m199s\u001b[0m 444ms/step - accuracy: 0.9393 - loss: 0.1802 - val_accuracy: 0.5834 - val_loss: 2.0713\n"
     ]
    }
   ],
   "source": [
    "model_fit = model.fit(train_dataset, epochs = 10, validation_data = test_dataset)"
   ]
  },
  {
   "cell_type": "code",
   "execution_count": 43,
   "id": "13284cf0",
   "metadata": {},
   "outputs": [
    {
     "name": "stdout",
     "output_type": "stream",
     "text": [
      "\u001b[1m113/113\u001b[0m \u001b[32m━━━━━━━━━━━━━━━━━━━━\u001b[0m\u001b[37m\u001b[0m \u001b[1m24s\u001b[0m 211ms/step - accuracy: 0.5826 - loss: 2.0481\n"
     ]
    }
   ],
   "source": [
    "loss, accuracy = model.evaluate(test_dataset)"
   ]
  },
  {
   "cell_type": "code",
   "execution_count": 25,
   "id": "530cd938",
   "metadata": {},
   "outputs": [
    {
     "data": {
      "text/plain": [
       "{'angry': 0,\n",
       " 'disgusted': 1,\n",
       " 'fearful': 2,\n",
       " 'happy': 3,\n",
       " 'neutral': 4,\n",
       " 'sad': 5,\n",
       " 'surprised': 6}"
      ]
     },
     "execution_count": 25,
     "metadata": {},
     "output_type": "execute_result"
    }
   ],
   "source": [
    "test_dataset.class_indices"
   ]
  },
  {
   "cell_type": "code",
   "execution_count": 59,
   "id": "3d8ef917",
   "metadata": {},
   "outputs": [
    {
     "name": "stdout",
     "output_type": "stream",
     "text": [
      "\u001b[1m1/1\u001b[0m \u001b[32m━━━━━━━━━━━━━━━━━━━━\u001b[0m\u001b[37m\u001b[0m \u001b[1m0s\u001b[0m 23ms/step\n",
      "Randomly selected image: im45.png from folder: neutral\n",
      "happy\n"
     ]
    },
    {
     "data": {
      "image/png": "[encoded data removed]",
      "text/plain": [
       "<Figure size 640x480 with 1 Axes>"
      ]
     },
     "metadata": {},
     "output_type": "display_data"
    }
   ],
   "source": [
    "# Function to load a random image from a random folder for prediction\n",
    "def load_random_image(test_folder):\n",
    "    # Get the list of all subfolders (classes) in the test folder\n",
    "    class_folders = os.listdir(test_folder)\n",
    "    \n",
    "    # Randomly select a class folder\n",
    "    random_class = random.choice(class_folders)\n",
    "    class_path = os.path.join(test_folder, random_class)\n",
    "    \n",
    "    # Get the list of all images in the selected class folder\n",
    "    image_files = os.listdir(class_path)\n",
    "    \n",
    "    # Randomly select an image file\n",
    "    random_image_file = random.choice(image_files)\n",
    "    image_path = os.path.join(class_path, random_image_file)\n",
    "    \n",
    "    # Load and preprocess the image for prediction\n",
    "    img = image.load_img(image_path, target_size=(48, 48))  # Same target size as training\n",
    "    img_array = image.img_to_array(img)\n",
    "    img_array = np.expand_dims(img_array, axis=0)  # Add batch dimension\n",
    "\n",
    "    return img_array, random_image_file, random_class\n",
    "\n",
    "# Path to your test folder\n",
    "test_folder = 'test/'\n",
    "\n",
    "# Load a random image for prediction\n",
    "random_image, image_name, folder_name = load_random_image(test_folder)\n",
    "\n",
    "# Predict the class of the random image\n",
    "prediction = model.predict(random_image)\n",
    "\n",
    "# Print the predicted class\n",
    "predicted_class = np.argmax(prediction)  # Get the index of the highest probability\n",
    "print(f\"Randomly selected image: {image_name} from folder: {folder_name}\")\n",
    "img = image.load_img(f\"test/{folder_name}/{image_name}\")\n",
    "plt.imshow(img)\n",
    "\n",
    "if predicted_class == 0:\n",
    "    print(\"angry\")\n",
    "elif predicted_class == 1:\n",
    "    print(\"disgusted\")\n",
    "elif predicted_class == 2:\n",
    "    print(\"fearful\")\n",
    "elif predicted_class == 3:\n",
    "    print(\"happy\")\n",
    "elif predicted_class == 4:\n",
    "    print(\"neutral\")\n",
    "elif predicted_class == 5:\n",
    "    print(\"sad\")\n",
    "else:\n",
    "    print(\"Surprised\")"
   ]
  },
  {
   "cell_type": "code",
   "execution_count": 60,
   "id": "43890465",
   "metadata": {},
   "outputs": [
    {
     "name": "stderr",
     "output_type": "stream",
     "text": [
      "WARNING:absl:You are saving your model as an HDF5 file via `model.save()` or `keras.saving.save_model(model)`. This file format is considered legacy. We recommend using instead the native Keras format, e.g. `model.save('my_model.keras')` or `keras.saving.save_model(model, 'my_model.keras')`. \n"
     ]
    }
   ],
   "source": [
    "model.save(\"emotion_detection_model.h5\")"
   ]
  },
  {
   "cell_type": "code",
   "execution_count": null,
   "id": "f49f011e",
   "metadata": {},
   "outputs": [],
   "source": []
  }
 ],
 "metadata": {
  "kernelspec": {
   "display_name": "Python 3",
   "language": "python",
   "name": "python3"
  },
  "language_info": {
   "codemirror_mode": {
    "name": "ipython",
    "version": 3
   },
   "file_extension": ".py",
   "mimetype": "text/x-python",
   "name": "python",
   "nbconvert_exporter": "python",
   "pygments_lexer": "ipython3",
   "version": "3.11.2"
  }
 },
 "nbformat": 4,
 "nbformat_minor": 5
}
